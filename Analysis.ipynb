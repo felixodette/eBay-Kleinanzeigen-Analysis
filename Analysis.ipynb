{
 "cells": [
  {
   "cell_type": "markdown",
   "metadata": {
    "collapsed": true
   },
   "source": [
    "# eBay German Car Classifieds Analysis\n",
    "In this analysis project, we'll work with a dataset of used cars from eBay Kleinanzeigen, a classifieds section of the German eBay website.\n",
    "\n",
    "The dataset was originally scraped and uploaded to Kaggle by user orgesleka.\n",
    "The original dataset isn't available on Kaggle anymore, but you can find it [here](https://data.world/data-society/used-cars-data).\n",
    "\n",
    "The data dictionary provided with data is as follows:\n",
    "\n",
    "- dateCrawled - When this ad was first crawled. All field-values are taken from this date.\n",
    "- name - Name of the car.\n",
    "- seller - Whether the seller is private or a dealer.\n",
    "- offerType - The type of listing\n",
    "- price - The price on the ad to sell the car.\n",
    "- abtest - Whether the listing is included in an A/B test.\n",
    "- vehicleType - The vehicle Type.\n",
    "- yearOfRegistration - The year in which the car was first registered.\n",
    "- gearbox - The transmission type.\n",
    "- powerPS - The power of the car in PS.\n",
    "- model - The car model name.\n",
    "- kilometer - How many kilometers the car has driven.\n",
    "- monthOfRegistration - The month in which the car was first registered.\n",
    "- fuelType - What type of fuel the car uses.\n",
    "- brand - The brand of the car.\n",
    "- notRepairedDamage - If the car has a damage which is not yet repaired.\n",
    "- dateCreated - The date on which the eBay listing was created.\n",
    "- nrOfPictures - The number of pictures in the ad.\n",
    "- postalCode - The postal code for the location of the vehicle.\n",
    "- lastSeenOnline - When the crawler saw this ad last online.\n",
    "\n",
    "The aim of this project is to clean the data and analyze the included used car listings."
   ]
  },
  {
   "cell_type": "code",
   "execution_count": 2,
   "metadata": {
    "collapsed": true
   },
   "outputs": [],
   "source": [
    "# import required modules\n",
    "import pandas as pd\n",
    "import numpy as np\n",
    "import datetime as dt"
   ]
  },
  {
   "cell_type": "code",
   "execution_count": 5,
   "metadata": {
    "collapsed": false
   },
   "outputs": [],
   "source": [
    "# read in the data\n",
    "autos = pd.read_csv('data/autos.csv', encoding='Latin-1')"
   ]
  },
  {
   "cell_type": "code",
   "execution_count": 6,
   "metadata": {
    "collapsed": false
   },
   "outputs": [
    {
     "output_type": "stream",
     "name": "stdout",
     "text": [
      "<class 'pandas.core.frame.DataFrame'>\nRangeIndex: 371528 entries, 0 to 371527\nData columns (total 20 columns):\ndateCrawled            371528 non-null object\nname                   371528 non-null object\nseller                 371528 non-null object\nofferType              371528 non-null object\nprice                  371528 non-null int64\nabtest                 371528 non-null object\nvehicleType            333659 non-null object\nyearOfRegistration     371528 non-null int64\ngearbox                351319 non-null object\npowerPS                371528 non-null int64\nmodel                  351044 non-null object\nkilometer              371528 non-null int64\nmonthOfRegistration    371528 non-null int64\nfuelType               338142 non-null object\nbrand                  371528 non-null object\nnotRepairedDamage      299468 non-null object\ndateCreated            371528 non-null object\nnrOfPictures           371528 non-null int64\npostalCode             371528 non-null int64\nlastSeen               371528 non-null object\ndtypes: int64(7), object(13)\nmemory usage: 56.7+ MB\n"
     ]
    }
   ],
   "source": [
    "# quick look at the types in the data, and its columns\n",
    "autos.info()"
   ]
  },
  {
   "cell_type": "code",
   "execution_count": 7,
   "metadata": {},
   "outputs": [
    {
     "output_type": "execute_result",
     "data": {
      "text/plain": [
       "(371528, 20)"
      ]
     },
     "metadata": {},
     "execution_count": 7
    }
   ],
   "source": [
    "autos.shape"
   ]
  },
  {
   "cell_type": "code",
   "execution_count": 8,
   "metadata": {},
   "outputs": [
    {
     "output_type": "execute_result",
     "data": {
      "text/plain": [
       "           dateCrawled                            name  seller offerType  \\\n",
       "0  2016-03-24 11:52:17                      Golf_3_1.6  privat   Angebot   \n",
       "1  2016-03-24 10:58:45            A5_Sportback_2.7_Tdi  privat   Angebot   \n",
       "2  2016-03-14 12:52:21  Jeep_Grand_Cherokee_\"Overland\"  privat   Angebot   \n",
       "3  2016-03-17 16:54:04              GOLF_4_1_4__3TÜRER  privat   Angebot   \n",
       "\n",
       "   price abtest vehicleType  yearOfRegistration    gearbox  powerPS  model  \\\n",
       "0    480   test         NaN                1993    manuell        0   golf   \n",
       "1  18300   test       coupe                2011    manuell      190    NaN   \n",
       "2   9800   test         suv                2004  automatik      163  grand   \n",
       "3   1500   test  kleinwagen                2001    manuell       75   golf   \n",
       "\n",
       "   kilometer  monthOfRegistration fuelType       brand notRepairedDamage  \\\n",
       "0     150000                    0   benzin  volkswagen               NaN   \n",
       "1     125000                    5   diesel        audi                ja   \n",
       "2     125000                    8   diesel        jeep               NaN   \n",
       "3     150000                    6   benzin  volkswagen              nein   \n",
       "\n",
       "           dateCreated  nrOfPictures  postalCode             lastSeen  \n",
       "0  2016-03-24 00:00:00             0       70435  2016-04-07 03:16:57  \n",
       "1  2016-03-24 00:00:00             0       66954  2016-04-07 01:46:50  \n",
       "2  2016-03-14 00:00:00             0       90480  2016-04-05 12:47:46  \n",
       "3  2016-03-17 00:00:00             0       91074  2016-03-17 17:40:17  "
      ],
      "text/html": "<div>\n<style scoped>\n    .dataframe tbody tr th:only-of-type {\n        vertical-align: middle;\n    }\n\n    .dataframe tbody tr th {\n        vertical-align: top;\n    }\n\n    .dataframe thead th {\n        text-align: right;\n    }\n</style>\n<table border=\"1\" class=\"dataframe\">\n  <thead>\n    <tr style=\"text-align: right;\">\n      <th></th>\n      <th>dateCrawled</th>\n      <th>name</th>\n      <th>seller</th>\n      <th>offerType</th>\n      <th>price</th>\n      <th>abtest</th>\n      <th>vehicleType</th>\n      <th>yearOfRegistration</th>\n      <th>gearbox</th>\n      <th>powerPS</th>\n      <th>model</th>\n      <th>kilometer</th>\n      <th>monthOfRegistration</th>\n      <th>fuelType</th>\n      <th>brand</th>\n      <th>notRepairedDamage</th>\n      <th>dateCreated</th>\n      <th>nrOfPictures</th>\n      <th>postalCode</th>\n      <th>lastSeen</th>\n    </tr>\n  </thead>\n  <tbody>\n    <tr>\n      <th>0</th>\n      <td>2016-03-24 11:52:17</td>\n      <td>Golf_3_1.6</td>\n      <td>privat</td>\n      <td>Angebot</td>\n      <td>480</td>\n      <td>test</td>\n      <td>NaN</td>\n      <td>1993</td>\n      <td>manuell</td>\n      <td>0</td>\n      <td>golf</td>\n      <td>150000</td>\n      <td>0</td>\n      <td>benzin</td>\n      <td>volkswagen</td>\n      <td>NaN</td>\n      <td>2016-03-24 00:00:00</td>\n      <td>0</td>\n      <td>70435</td>\n      <td>2016-04-07 03:16:57</td>\n    </tr>\n    <tr>\n      <th>1</th>\n      <td>2016-03-24 10:58:45</td>\n      <td>A5_Sportback_2.7_Tdi</td>\n      <td>privat</td>\n      <td>Angebot</td>\n      <td>18300</td>\n      <td>test</td>\n      <td>coupe</td>\n      <td>2011</td>\n      <td>manuell</td>\n      <td>190</td>\n      <td>NaN</td>\n      <td>125000</td>\n      <td>5</td>\n      <td>diesel</td>\n      <td>audi</td>\n      <td>ja</td>\n      <td>2016-03-24 00:00:00</td>\n      <td>0</td>\n      <td>66954</td>\n      <td>2016-04-07 01:46:50</td>\n    </tr>\n    <tr>\n      <th>2</th>\n      <td>2016-03-14 12:52:21</td>\n      <td>Jeep_Grand_Cherokee_\"Overland\"</td>\n      <td>privat</td>\n      <td>Angebot</td>\n      <td>9800</td>\n      <td>test</td>\n      <td>suv</td>\n      <td>2004</td>\n      <td>automatik</td>\n      <td>163</td>\n      <td>grand</td>\n      <td>125000</td>\n      <td>8</td>\n      <td>diesel</td>\n      <td>jeep</td>\n      <td>NaN</td>\n      <td>2016-03-14 00:00:00</td>\n      <td>0</td>\n      <td>90480</td>\n      <td>2016-04-05 12:47:46</td>\n    </tr>\n    <tr>\n      <th>3</th>\n      <td>2016-03-17 16:54:04</td>\n      <td>GOLF_4_1_4__3TÜRER</td>\n      <td>privat</td>\n      <td>Angebot</td>\n      <td>1500</td>\n      <td>test</td>\n      <td>kleinwagen</td>\n      <td>2001</td>\n      <td>manuell</td>\n      <td>75</td>\n      <td>golf</td>\n      <td>150000</td>\n      <td>6</td>\n      <td>benzin</td>\n      <td>volkswagen</td>\n      <td>nein</td>\n      <td>2016-03-17 00:00:00</td>\n      <td>0</td>\n      <td>91074</td>\n      <td>2016-03-17 17:40:17</td>\n    </tr>\n  </tbody>\n</table>\n</div>"
     },
     "metadata": {},
     "execution_count": 8
    }
   ],
   "source": [
    "autos.head(4)"
   ]
  },
  {
   "cell_type": "markdown",
   "metadata": {},
   "source": [
    "From the cells above, we can make the following observations:\n",
    "\n",
    "- The dataset contains 371528 rows and 20 columns, most of which are strings.\n",
    "- Some columns have null values, but none have more than ~20% null values.\n",
    "- The column names use camelcase instead of Python's preferred snakecase.\n",
    "\n",
    "Let's convert the column names from camelcase to snakecase and reword some of the column names based on the data dictionary to be more descriptive."
   ]
  },
  {
   "cell_type": "code",
   "execution_count": 9,
   "metadata": {
    "collapsed": true
   },
   "outputs": [],
   "source": [
    "autos.rename(columns={'dateCrawled':'date_crawled','offerType':'offer_type','vehicleType':'vehicle_type','fuelType':'fuel_type','nrOfPictures':'pictures','postalCode':'postal_code','lastSeen':'last_seen','yearOfRegistration':'registration_year', 'monthOfRegistration':'registration_month','notRepairedDamage':'unrepared_damage','dateCreated':'ad_created'}, inplace=True)"
   ]
  },
  {
   "cell_type": "markdown",
   "metadata": {},
   "source": [
    "Now, to do some basic data exploration to determine what other cleaning tasks need to be done. Initially we will look for:\n",
    "\n",
    "- Text columns where all or almost all values are the same. These can often be dropped as they don't have useful information for analysis.\n",
    "- Examples of numeric data stored as text which can be cleaned and converted."
   ]
  },
  {
   "cell_type": "code",
   "execution_count": 20,
   "metadata": {},
   "outputs": [],
   "source": [
    "# drop the 'abtest' and 'pictures' columns, not necessary for this analysis\n",
    "to_drop = ['abtest','pictures']\n",
    "autos = autos.drop(to_drop, axis=1)\n",
    "\n",
    "# change the 'date_crawled', 'ad_created', and 'last_seen' columns to datetime\n",
    "time_parse = ['date_crawled','ad_created', 'last_seen']\n",
    "for col in time_parse:\n",
    "    autos[col] = pd.to_datetime(autos[col])\n",
    "\n",
    "# change the 'price', 'kilometer', and 'powerPS' column types to integers\n",
    "autos['price'] = autos['price'].astype(int)\n",
    "autos['kilometer'] = autos['kilometer'].astype(int)\n",
    "autos['powerPS'] = autos['powerPS'].astype(int)"
   ]
  },
  {
   "cell_type": "markdown",
   "metadata": {},
   "source": [
    "There are a number of text columns where almost all of the values are the same (seller and offer_type). We also converted the price and odometer columns to numeric types.\n",
    "\n",
    "Let's continue exploring the data, specifically looking for data that doesn't look right. We'll start by analyzing the kilometer and price columns. Here's the steps we'll take:\n",
    "\n",
    "- Analyze the columns using minimum and maximum values and look for any values that look unrealistically high or low (outliers) that we might want to remove.\n",
    "- Translate German words into English"
   ]
  },
  {
   "cell_type": "code",
   "execution_count": 33,
   "metadata": {
    "collapsed": false
   },
   "outputs": [
    {
     "output_type": "stream",
     "name": "stdout",
     "text": [
      "Min price: 0\nMax price: 2147483647\nMin odo: 5000\nMax odo: 150000\nPrice shape: (5597,)\nOdo shape: (13,)\n"
     ]
    }
   ],
   "source": [
    "# check the min and max for price and kilometer\n",
    "min_price = autos['price'].min()\n",
    "max_price = autos['price'].max()\n",
    "min_odo = autos['kilometer'].min()\n",
    "max_odo = autos['kilometer'].max()\n",
    "    \n",
    "print('Min price: {}'.format(min_price))\n",
    "print('Max price: {}'.format(max_price))\n",
    "print('Min odo: {}'.format(min_odo))\n",
    "print('Max odo: {}'.format(max_odo))\n",
    "print('Price shape: {}'.format(autos['price'].unique().shape))\n",
    "print('Odo shape: {}'.format(autos['kilometer'].unique().shape))\n",
    "\n",
    "# translate German into English\n",
    "translate_gearbox = {'manuell':'manual','automatik':'auto', 'nan':'nan'}\n",
    "autos['gearbox'] = autos['gearbox'].map(translate_gearbox)\n",
    "\n",
    "translate_seller = {'privat':'private','gewerblich':'commercial'}\n",
    "autos['seller'] = autos['seller'].map(translate_seller)\n",
    "\n",
    "translate_offer = {'Angebot':'Offer','Gesuch':'Request'}\n",
    "autos['offer_type'] = autos['offer_type'].map(translate_offer)\n",
    "\n",
    "translate_type = {'nan':'nan', 'coupe':'coupe', 'suv':'suv', 'kleinwagen':'small car', 'limousine':'limousine', 'cabrio':'cabriolet', 'bus':'bus',\n",
    "       'kombi':'combi', 'andere':'others'}\n",
    "autos['vehicle_type'] = autos['vehicle_type'].map(translate_type)\n",
    "\n",
    "translate_damage = {'nan':'nan', 'ja':'yes', 'nein':'no'}\n",
    "autos['unrepared_damage'] = autos['unrepared_damage'].map(translate_damage)\n",
    "\n",
    "translate_fuel = {'benzin':'gasoline', 'diesel':'diesel', 'nan':'nan', 'lpg':'lpg', 'andere':'other', 'hybrid':'hybrid', 'cng':'cng',\n",
    "       'elektro':'electric'}\n",
    "autos['fuel_type'] = autos['fuel_type'].map(translate_fuel)"
   ]
  },
  {
   "cell_type": "code",
   "execution_count": 74,
   "metadata": {
    "collapsed": true
   },
   "outputs": [
    {
     "output_type": "execute_result",
     "data": {
      "text/plain": [
       "              date_crawled                                              name  \\\n",
       "7      2016-03-21 18:54:38                      VW_Derby_Bj_80__Scheunenfund   \n",
       "40     2016-03-26 22:06:17                 Suche_Opel_corsa_a_zu_verschenken   \n",
       "115    2016-03-19 18:40:12                                   Golf_IV_1.4_16V   \n",
       "119    2016-03-20 18:53:27                    Polo_6n_Karosse_zu_verschenken   \n",
       "157    2016-03-11 18:55:53            Opel_meriva_1.6_16_v_lpg__z16xe_no_OPC   \n",
       "...                    ...                                               ...   \n",
       "371392 2016-03-20 14:55:07  Ford_Fiesta_1.3___60PS___Bj_2002___Klima___Servo   \n",
       "371402 2016-03-24 13:48:05                         Suzuki_Swift_zu_verkaufen   \n",
       "371431 2016-03-10 22:55:50                                        Seat_Arosa   \n",
       "371522 2016-03-21 09:50:58                                   Mitsubishi_Cold   \n",
       "129969 2016-03-11 08:37:57                           Kaufe_AUTOS_Zum_basteln   \n",
       "\n",
       "         seller offer_type       price vehicle_type  registration_year  \\\n",
       "7       private      Offer           0    limousine               1980   \n",
       "40      private      Offer           0          NaN               1990   \n",
       "115     private      Offer           0          NaN               2017   \n",
       "119     private      Offer           0    small car               1999   \n",
       "157     private      Offer           0          bus               2004   \n",
       "...         ...        ...         ...          ...                ...   \n",
       "371392  private      Offer           0    small car               2002   \n",
       "371402  private      Offer           0    small car               1999   \n",
       "371431  private      Offer           0    small car               1999   \n",
       "371522  private      Offer           0          NaN               2005   \n",
       "129969  private      Offer  2147483647       others               1996   \n",
       "\n",
       "       gearbox  powerPS   model  kilometer  registration_month fuel_type  \\\n",
       "7       manual       50  andere      40000                   7  gasoline   \n",
       "40         NaN        0   corsa     150000                   1  gasoline   \n",
       "115     manual        0    golf       5000                  12  gasoline   \n",
       "119        NaN        0     NaN       5000                   0  gasoline   \n",
       "157     manual      101  meriva     150000                  10       lpg   \n",
       "...        ...      ...     ...        ...                 ...       ...   \n",
       "371392  manual       60  fiesta     150000                   3  gasoline   \n",
       "371402  manual       53   swift     150000                   3  gasoline   \n",
       "371431  manual       37   arosa     150000                   7  gasoline   \n",
       "371522  manual        0    colt     150000                   7  gasoline   \n",
       "129969  manual      888     NaN     150000                   1     other   \n",
       "\n",
       "                 brand unrepared_damage ad_created  postal_code  \\\n",
       "7           volkswagen               no 2016-03-21        19348   \n",
       "40                opel              NaN 2016-03-26        56412   \n",
       "115         volkswagen              NaN 2016-03-19        21698   \n",
       "119         volkswagen              NaN 2016-03-20        37520   \n",
       "157               opel              yes 2016-03-11        27432   \n",
       "...                ...              ...        ...          ...   \n",
       "371392            ford              NaN 2016-03-20        33659   \n",
       "371402          suzuki              NaN 2016-03-24        42329   \n",
       "371431            seat              yes 2016-03-10        22559   \n",
       "371522      mitsubishi              yes 2016-03-21         2694   \n",
       "129969  sonstige_autos              yes 2016-03-11         4720   \n",
       "\n",
       "                 last_seen  \n",
       "7      2016-03-25 16:47:58  \n",
       "40     2016-03-27 17:43:34  \n",
       "115    2016-04-01 08:47:05  \n",
       "119    2016-04-07 02:45:22  \n",
       "157    2016-03-12 23:47:10  \n",
       "...                    ...  \n",
       "371392 2016-04-06 18:45:23  \n",
       "371402 2016-04-07 05:17:24  \n",
       "371431 2016-03-12 23:46:32  \n",
       "371522 2016-03-21 10:42:49  \n",
       "129969 2016-03-20 11:45:35  \n",
       "\n",
       "[10779 rows x 18 columns]"
      ],
      "text/html": "<div>\n<style scoped>\n    .dataframe tbody tr th:only-of-type {\n        vertical-align: middle;\n    }\n\n    .dataframe tbody tr th {\n        vertical-align: top;\n    }\n\n    .dataframe thead th {\n        text-align: right;\n    }\n</style>\n<table border=\"1\" class=\"dataframe\">\n  <thead>\n    <tr style=\"text-align: right;\">\n      <th></th>\n      <th>date_crawled</th>\n      <th>name</th>\n      <th>seller</th>\n      <th>offer_type</th>\n      <th>price</th>\n      <th>vehicle_type</th>\n      <th>registration_year</th>\n      <th>gearbox</th>\n      <th>powerPS</th>\n      <th>model</th>\n      <th>kilometer</th>\n      <th>registration_month</th>\n      <th>fuel_type</th>\n      <th>brand</th>\n      <th>unrepared_damage</th>\n      <th>ad_created</th>\n      <th>postal_code</th>\n      <th>last_seen</th>\n    </tr>\n  </thead>\n  <tbody>\n    <tr>\n      <th>7</th>\n      <td>2016-03-21 18:54:38</td>\n      <td>VW_Derby_Bj_80__Scheunenfund</td>\n      <td>private</td>\n      <td>Offer</td>\n      <td>0</td>\n      <td>limousine</td>\n      <td>1980</td>\n      <td>manual</td>\n      <td>50</td>\n      <td>andere</td>\n      <td>40000</td>\n      <td>7</td>\n      <td>gasoline</td>\n      <td>volkswagen</td>\n      <td>no</td>\n      <td>2016-03-21</td>\n      <td>19348</td>\n      <td>2016-03-25 16:47:58</td>\n    </tr>\n    <tr>\n      <th>40</th>\n      <td>2016-03-26 22:06:17</td>\n      <td>Suche_Opel_corsa_a_zu_verschenken</td>\n      <td>private</td>\n      <td>Offer</td>\n      <td>0</td>\n      <td>NaN</td>\n      <td>1990</td>\n      <td>NaN</td>\n      <td>0</td>\n      <td>corsa</td>\n      <td>150000</td>\n      <td>1</td>\n      <td>gasoline</td>\n      <td>opel</td>\n      <td>NaN</td>\n      <td>2016-03-26</td>\n      <td>56412</td>\n      <td>2016-03-27 17:43:34</td>\n    </tr>\n    <tr>\n      <th>115</th>\n      <td>2016-03-19 18:40:12</td>\n      <td>Golf_IV_1.4_16V</td>\n      <td>private</td>\n      <td>Offer</td>\n      <td>0</td>\n      <td>NaN</td>\n      <td>2017</td>\n      <td>manual</td>\n      <td>0</td>\n      <td>golf</td>\n      <td>5000</td>\n      <td>12</td>\n      <td>gasoline</td>\n      <td>volkswagen</td>\n      <td>NaN</td>\n      <td>2016-03-19</td>\n      <td>21698</td>\n      <td>2016-04-01 08:47:05</td>\n    </tr>\n    <tr>\n      <th>119</th>\n      <td>2016-03-20 18:53:27</td>\n      <td>Polo_6n_Karosse_zu_verschenken</td>\n      <td>private</td>\n      <td>Offer</td>\n      <td>0</td>\n      <td>small car</td>\n      <td>1999</td>\n      <td>NaN</td>\n      <td>0</td>\n      <td>NaN</td>\n      <td>5000</td>\n      <td>0</td>\n      <td>gasoline</td>\n      <td>volkswagen</td>\n      <td>NaN</td>\n      <td>2016-03-20</td>\n      <td>37520</td>\n      <td>2016-04-07 02:45:22</td>\n    </tr>\n    <tr>\n      <th>157</th>\n      <td>2016-03-11 18:55:53</td>\n      <td>Opel_meriva_1.6_16_v_lpg__z16xe_no_OPC</td>\n      <td>private</td>\n      <td>Offer</td>\n      <td>0</td>\n      <td>bus</td>\n      <td>2004</td>\n      <td>manual</td>\n      <td>101</td>\n      <td>meriva</td>\n      <td>150000</td>\n      <td>10</td>\n      <td>lpg</td>\n      <td>opel</td>\n      <td>yes</td>\n      <td>2016-03-11</td>\n      <td>27432</td>\n      <td>2016-03-12 23:47:10</td>\n    </tr>\n    <tr>\n      <th>...</th>\n      <td>...</td>\n      <td>...</td>\n      <td>...</td>\n      <td>...</td>\n      <td>...</td>\n      <td>...</td>\n      <td>...</td>\n      <td>...</td>\n      <td>...</td>\n      <td>...</td>\n      <td>...</td>\n      <td>...</td>\n      <td>...</td>\n      <td>...</td>\n      <td>...</td>\n      <td>...</td>\n      <td>...</td>\n      <td>...</td>\n    </tr>\n    <tr>\n      <th>371392</th>\n      <td>2016-03-20 14:55:07</td>\n      <td>Ford_Fiesta_1.3___60PS___Bj_2002___Klima___Servo</td>\n      <td>private</td>\n      <td>Offer</td>\n      <td>0</td>\n      <td>small car</td>\n      <td>2002</td>\n      <td>manual</td>\n      <td>60</td>\n      <td>fiesta</td>\n      <td>150000</td>\n      <td>3</td>\n      <td>gasoline</td>\n      <td>ford</td>\n      <td>NaN</td>\n      <td>2016-03-20</td>\n      <td>33659</td>\n      <td>2016-04-06 18:45:23</td>\n    </tr>\n    <tr>\n      <th>371402</th>\n      <td>2016-03-24 13:48:05</td>\n      <td>Suzuki_Swift_zu_verkaufen</td>\n      <td>private</td>\n      <td>Offer</td>\n      <td>0</td>\n      <td>small car</td>\n      <td>1999</td>\n      <td>manual</td>\n      <td>53</td>\n      <td>swift</td>\n      <td>150000</td>\n      <td>3</td>\n      <td>gasoline</td>\n      <td>suzuki</td>\n      <td>NaN</td>\n      <td>2016-03-24</td>\n      <td>42329</td>\n      <td>2016-04-07 05:17:24</td>\n    </tr>\n    <tr>\n      <th>371431</th>\n      <td>2016-03-10 22:55:50</td>\n      <td>Seat_Arosa</td>\n      <td>private</td>\n      <td>Offer</td>\n      <td>0</td>\n      <td>small car</td>\n      <td>1999</td>\n      <td>manual</td>\n      <td>37</td>\n      <td>arosa</td>\n      <td>150000</td>\n      <td>7</td>\n      <td>gasoline</td>\n      <td>seat</td>\n      <td>yes</td>\n      <td>2016-03-10</td>\n      <td>22559</td>\n      <td>2016-03-12 23:46:32</td>\n    </tr>\n    <tr>\n      <th>371522</th>\n      <td>2016-03-21 09:50:58</td>\n      <td>Mitsubishi_Cold</td>\n      <td>private</td>\n      <td>Offer</td>\n      <td>0</td>\n      <td>NaN</td>\n      <td>2005</td>\n      <td>manual</td>\n      <td>0</td>\n      <td>colt</td>\n      <td>150000</td>\n      <td>7</td>\n      <td>gasoline</td>\n      <td>mitsubishi</td>\n      <td>yes</td>\n      <td>2016-03-21</td>\n      <td>2694</td>\n      <td>2016-03-21 10:42:49</td>\n    </tr>\n    <tr>\n      <th>129969</th>\n      <td>2016-03-11 08:37:57</td>\n      <td>Kaufe_AUTOS_Zum_basteln</td>\n      <td>private</td>\n      <td>Offer</td>\n      <td>2147483647</td>\n      <td>others</td>\n      <td>1996</td>\n      <td>manual</td>\n      <td>888</td>\n      <td>NaN</td>\n      <td>150000</td>\n      <td>1</td>\n      <td>other</td>\n      <td>sonstige_autos</td>\n      <td>yes</td>\n      <td>2016-03-11</td>\n      <td>4720</td>\n      <td>2016-03-20 11:45:35</td>\n    </tr>\n  </tbody>\n</table>\n<p>10779 rows × 18 columns</p>\n</div>"
     },
     "metadata": {},
     "execution_count": 74
    }
   ],
   "source": [
    "# preview the data with prices set to 0 and 2147483647\n",
    "autos.loc[autos['price'] == 0].append(autos.loc[autos['price'] == 2147483647])"
   ]
  },
  {
   "source": [
    "Let's now move on to the date columns and understand the date range the data covers.\n",
    "\n",
    "There are 5 columns that should represent date values. Some of these columns were created by the crawler, some came from the website itself. We can differentiate by referring to the data dictionary:\n",
    "\n",
    "- `date_crawled`: added by the crawler\n",
    "- `last_seen`: added by the crawler\n",
    "- `ad_created`: from the website\n",
    "- `registration_month`: from the website\n",
    "- `registration_year`: from the website\n",
    "\n",
    "Because these three columns are represented as strings, we need to convert the data into a numerical representation so we can understand it quantitatively. The other two columns are represented as numeric values, so we can use methods like Series.describe() to understand the distribution without any extra data processing."
   ],
   "cell_type": "markdown",
   "metadata": {}
  },
  {
   "cell_type": "code",
   "execution_count": 42,
   "metadata": {},
   "outputs": [
    {
     "output_type": "execute_result",
     "data": {
      "text/plain": [
       "         date_crawled ad_created           last_seen\n",
       "0 2016-03-24 11:52:17 2016-03-24 2016-04-07 03:16:57\n",
       "1 2016-03-24 10:58:45 2016-03-24 2016-04-07 01:46:50\n",
       "2 2016-03-14 12:52:21 2016-03-14 2016-04-05 12:47:46\n",
       "3 2016-03-17 16:54:04 2016-03-17 2016-03-17 17:40:17\n",
       "4 2016-03-31 17:25:20 2016-03-31 2016-04-06 10:17:21"
      ],
      "text/html": "<div>\n<style scoped>\n    .dataframe tbody tr th:only-of-type {\n        vertical-align: middle;\n    }\n\n    .dataframe tbody tr th {\n        vertical-align: top;\n    }\n\n    .dataframe thead th {\n        text-align: right;\n    }\n</style>\n<table border=\"1\" class=\"dataframe\">\n  <thead>\n    <tr style=\"text-align: right;\">\n      <th></th>\n      <th>date_crawled</th>\n      <th>ad_created</th>\n      <th>last_seen</th>\n    </tr>\n  </thead>\n  <tbody>\n    <tr>\n      <th>0</th>\n      <td>2016-03-24 11:52:17</td>\n      <td>2016-03-24</td>\n      <td>2016-04-07 03:16:57</td>\n    </tr>\n    <tr>\n      <th>1</th>\n      <td>2016-03-24 10:58:45</td>\n      <td>2016-03-24</td>\n      <td>2016-04-07 01:46:50</td>\n    </tr>\n    <tr>\n      <th>2</th>\n      <td>2016-03-14 12:52:21</td>\n      <td>2016-03-14</td>\n      <td>2016-04-05 12:47:46</td>\n    </tr>\n    <tr>\n      <th>3</th>\n      <td>2016-03-17 16:54:04</td>\n      <td>2016-03-17</td>\n      <td>2016-03-17 17:40:17</td>\n    </tr>\n    <tr>\n      <th>4</th>\n      <td>2016-03-31 17:25:20</td>\n      <td>2016-03-31</td>\n      <td>2016-04-06 10:17:21</td>\n    </tr>\n  </tbody>\n</table>\n</div>"
     },
     "metadata": {},
     "execution_count": 42
    }
   ],
   "source": [
    "# preview the 'date_crawled', 'ad_created', and 'last_seen' columns\n",
    "autos[['date_crawled','ad_created','last_seen']][0:5]"
   ]
  },
  {
   "cell_type": "code",
   "execution_count": 43,
   "metadata": {},
   "outputs": [
    {
     "output_type": "execute_result",
     "data": {
      "text/plain": [
       "3    0.836852\n",
       "4    0.163148\n",
       "Name: date_crawled, dtype: float64"
      ]
     },
     "metadata": {},
     "execution_count": 43
    }
   ],
   "source": [
    "# get the months the data was collected\n",
    "pd.DatetimeIndex(autos['date_crawled']).month.value_counts(normalize=True, dropna=False)"
   ]
  },
  {
   "source": [
    "We see that the data was collected mostly in March of 2016"
   ],
   "cell_type": "markdown",
   "metadata": {}
  },
  {
   "source": [
    "One thing that stands out from the exploration we did in the last screen is that the registration_year column contains some odd values:\n",
    "\n",
    "- The minimum value is 1000, before cars were invented\n",
    "- The maximum value is 9999, many years into the future\n",
    "\n",
    "Because a car can't be first registered after the listing was seen, any vehicle with a registration year above 2020 is definitely inaccurate. Determining the earliest valid year is more difficult. Realistically, it could be somewhere in the first few decades of the 1900s.\n",
    "\n",
    "Let's count the number of listings with cars that fall outside the 1900 - 2016 interval and see if it's safe to remove those rows entirely, or if we need more custom logic."
   ],
   "cell_type": "markdown",
   "metadata": {}
  },
  {
   "cell_type": "code",
   "execution_count": 44,
   "metadata": {},
   "outputs": [
    {
     "output_type": "execute_result",
     "data": {
      "text/plain": [
       "count    371528.000000\n",
       "mean       2004.577997\n",
       "std          92.866598\n",
       "min        1000.000000\n",
       "25%        1999.000000\n",
       "50%        2003.000000\n",
       "75%        2008.000000\n",
       "max        9999.000000\n",
       "Name: registration_year, dtype: float64"
      ]
     },
     "metadata": {},
     "execution_count": 44
    }
   ],
   "source": [
    "autos['registration_year'].describe()"
   ]
  },
  {
   "cell_type": "code",
   "execution_count": 49,
   "metadata": {},
   "outputs": [
    {
     "output_type": "stream",
     "name": "stdout",
     "text": [
      "Registered Before 1900 : 68\nRegistered After 2016  : 14680\n"
     ]
    }
   ],
   "source": [
    "below_1900 = autos[autos['registration_year'] < 1900]\n",
    "above_2016 = autos[autos['registration_year'] > 2016]\n",
    "print(f'Registered Before 1900 : {below_1900.shape[0]}')\n",
    "print(f'Registered After 2016  : {above_2016.shape[0]}')"
   ]
  },
  {
   "source": [
    "We will purge entries in the dataset for registered vehicles before 1900 and after 2016. The reason being, it is unlikely that a vehicle was registered that far back in the past and in the future."
   ],
   "cell_type": "markdown",
   "metadata": {}
  },
  {
   "cell_type": "code",
   "execution_count": 51,
   "metadata": {},
   "outputs": [
    {
     "output_type": "stream",
     "name": "stdout",
     "text": [
      "(356780, 18)\n"
     ]
    },
    {
     "output_type": "execute_result",
     "data": {
      "text/plain": [
       "         date_crawled                            name   seller offer_type  \\\n",
       "0 2016-03-24 11:52:17                      Golf_3_1.6  private      Offer   \n",
       "1 2016-03-24 10:58:45            A5_Sportback_2.7_Tdi  private      Offer   \n",
       "2 2016-03-14 12:52:21  Jeep_Grand_Cherokee_\"Overland\"  private      Offer   \n",
       "3 2016-03-17 16:54:04              GOLF_4_1_4__3TÜRER  private      Offer   \n",
       "4 2016-03-31 17:25:20  Skoda_Fabia_1.4_TDI_PD_Classic  private      Offer   \n",
       "\n",
       "   price vehicle_type  registration_year gearbox  powerPS  model  kilometer  \\\n",
       "0    480          NaN               1993  manual        0   golf     150000   \n",
       "1  18300        coupe               2011  manual      190    NaN     125000   \n",
       "2   9800          suv               2004    auto      163  grand     125000   \n",
       "3   1500    small car               2001  manual       75   golf     150000   \n",
       "4   3600    small car               2008  manual       69  fabia      90000   \n",
       "\n",
       "   registration_month fuel_type       brand unrepared_damage ad_created  \\\n",
       "0                   0  gasoline  volkswagen              NaN 2016-03-24   \n",
       "1                   5    diesel        audi              yes 2016-03-24   \n",
       "2                   8    diesel        jeep              NaN 2016-03-14   \n",
       "3                   6  gasoline  volkswagen               no 2016-03-17   \n",
       "4                   7    diesel       skoda               no 2016-03-31   \n",
       "\n",
       "   postal_code           last_seen  \n",
       "0        70435 2016-04-07 03:16:57  \n",
       "1        66954 2016-04-07 01:46:50  \n",
       "2        90480 2016-04-05 12:47:46  \n",
       "3        91074 2016-03-17 17:40:17  \n",
       "4        60437 2016-04-06 10:17:21  "
      ],
      "text/html": "<div>\n<style scoped>\n    .dataframe tbody tr th:only-of-type {\n        vertical-align: middle;\n    }\n\n    .dataframe tbody tr th {\n        vertical-align: top;\n    }\n\n    .dataframe thead th {\n        text-align: right;\n    }\n</style>\n<table border=\"1\" class=\"dataframe\">\n  <thead>\n    <tr style=\"text-align: right;\">\n      <th></th>\n      <th>date_crawled</th>\n      <th>name</th>\n      <th>seller</th>\n      <th>offer_type</th>\n      <th>price</th>\n      <th>vehicle_type</th>\n      <th>registration_year</th>\n      <th>gearbox</th>\n      <th>powerPS</th>\n      <th>model</th>\n      <th>kilometer</th>\n      <th>registration_month</th>\n      <th>fuel_type</th>\n      <th>brand</th>\n      <th>unrepared_damage</th>\n      <th>ad_created</th>\n      <th>postal_code</th>\n      <th>last_seen</th>\n    </tr>\n  </thead>\n  <tbody>\n    <tr>\n      <th>0</th>\n      <td>2016-03-24 11:52:17</td>\n      <td>Golf_3_1.6</td>\n      <td>private</td>\n      <td>Offer</td>\n      <td>480</td>\n      <td>NaN</td>\n      <td>1993</td>\n      <td>manual</td>\n      <td>0</td>\n      <td>golf</td>\n      <td>150000</td>\n      <td>0</td>\n      <td>gasoline</td>\n      <td>volkswagen</td>\n      <td>NaN</td>\n      <td>2016-03-24</td>\n      <td>70435</td>\n      <td>2016-04-07 03:16:57</td>\n    </tr>\n    <tr>\n      <th>1</th>\n      <td>2016-03-24 10:58:45</td>\n      <td>A5_Sportback_2.7_Tdi</td>\n      <td>private</td>\n      <td>Offer</td>\n      <td>18300</td>\n      <td>coupe</td>\n      <td>2011</td>\n      <td>manual</td>\n      <td>190</td>\n      <td>NaN</td>\n      <td>125000</td>\n      <td>5</td>\n      <td>diesel</td>\n      <td>audi</td>\n      <td>yes</td>\n      <td>2016-03-24</td>\n      <td>66954</td>\n      <td>2016-04-07 01:46:50</td>\n    </tr>\n    <tr>\n      <th>2</th>\n      <td>2016-03-14 12:52:21</td>\n      <td>Jeep_Grand_Cherokee_\"Overland\"</td>\n      <td>private</td>\n      <td>Offer</td>\n      <td>9800</td>\n      <td>suv</td>\n      <td>2004</td>\n      <td>auto</td>\n      <td>163</td>\n      <td>grand</td>\n      <td>125000</td>\n      <td>8</td>\n      <td>diesel</td>\n      <td>jeep</td>\n      <td>NaN</td>\n      <td>2016-03-14</td>\n      <td>90480</td>\n      <td>2016-04-05 12:47:46</td>\n    </tr>\n    <tr>\n      <th>3</th>\n      <td>2016-03-17 16:54:04</td>\n      <td>GOLF_4_1_4__3TÜRER</td>\n      <td>private</td>\n      <td>Offer</td>\n      <td>1500</td>\n      <td>small car</td>\n      <td>2001</td>\n      <td>manual</td>\n      <td>75</td>\n      <td>golf</td>\n      <td>150000</td>\n      <td>6</td>\n      <td>gasoline</td>\n      <td>volkswagen</td>\n      <td>no</td>\n      <td>2016-03-17</td>\n      <td>91074</td>\n      <td>2016-03-17 17:40:17</td>\n    </tr>\n    <tr>\n      <th>4</th>\n      <td>2016-03-31 17:25:20</td>\n      <td>Skoda_Fabia_1.4_TDI_PD_Classic</td>\n      <td>private</td>\n      <td>Offer</td>\n      <td>3600</td>\n      <td>small car</td>\n      <td>2008</td>\n      <td>manual</td>\n      <td>69</td>\n      <td>fabia</td>\n      <td>90000</td>\n      <td>7</td>\n      <td>diesel</td>\n      <td>skoda</td>\n      <td>no</td>\n      <td>2016-03-31</td>\n      <td>60437</td>\n      <td>2016-04-06 10:17:21</td>\n    </tr>\n  </tbody>\n</table>\n</div>"
     },
     "metadata": {},
     "execution_count": 51
    }
   ],
   "source": [
    "# slice for vehicles registered between 1900 and 2016\n",
    "auto_valid = autos[autos['registration_year'].between(1900,2016)]\n",
    "print(auto_valid.shape)\n",
    "auto_valid.head()"
   ]
  },
  {
   "cell_type": "code",
   "execution_count": 54,
   "metadata": {},
   "outputs": [
    {
     "output_type": "execute_result",
     "data": {
      "text/plain": [
       "2000    0.068813\n",
       "1999    0.063812\n",
       "2005    0.062548\n",
       "2006    0.056702\n",
       "2001    0.056668\n",
       "2003    0.055701\n",
       "2004    0.055345\n",
       "2002    0.053784\n",
       "1998    0.050314\n",
       "2007    0.049535\n",
       "2008    0.045336\n",
       "2009    0.043744\n",
       "1997    0.041219\n",
       "2010    0.034626\n",
       "2011    0.033825\n",
       "1996    0.030512\n",
       "2016    0.027633\n",
       "1995    0.027070\n",
       "2012    0.026397\n",
       "2013    0.017257\n",
       "Name: registration_year, dtype: float64"
      ]
     },
     "metadata": {},
     "execution_count": 54
    }
   ],
   "source": [
    "# distribution of sliced data\n",
    "auto_valid['registration_year'].value_counts(normalize=True, dropna=False)[:20]"
   ]
  },
  {
   "source": [
    "Lets explore variations across different car brands."
   ],
   "cell_type": "markdown",
   "metadata": {}
  },
  {
   "cell_type": "code",
   "execution_count": 57,
   "metadata": {},
   "outputs": [
    {
     "output_type": "execute_result",
     "data": {
      "text/plain": [
       "volkswagen        0.212391\n",
       "bmw               0.109695\n",
       "opel              0.107069\n",
       "mercedes_benz     0.095955\n",
       "audi              0.089352\n",
       "ford              0.068849\n",
       "renault           0.047559\n",
       "peugeot           0.029859\n",
       "fiat              0.025758\n",
       "seat              0.018631\n",
       "skoda             0.015407\n",
       "mazda             0.015348\n",
       "smart             0.014104\n",
       "citroen           0.013874\n",
       "nissan            0.013569\n",
       "toyota            0.012747\n",
       "sonstige_autos    0.010648\n",
       "hyundai           0.009830\n",
       "mini              0.009210\n",
       "volvo             0.009129\n",
       "mitsubishi        0.008266\n",
       "honda             0.007587\n",
       "kia               0.006878\n",
       "alfa_romeo        0.006348\n",
       "suzuki            0.006318\n",
       "porsche           0.006149\n",
       "chevrolet         0.005014\n",
       "chrysler          0.003941\n",
       "dacia             0.002450\n",
       "daihatsu          0.002186\n",
       "jeep              0.002186\n",
       "land_rover        0.002136\n",
       "subaru            0.002125\n",
       "jaguar            0.001721\n",
       "trabant           0.001620\n",
       "saab              0.001452\n",
       "daewoo            0.001438\n",
       "rover             0.001298\n",
       "lancia            0.001292\n",
       "lada              0.000611\n",
       "Name: brand, dtype: float64"
      ]
     },
     "metadata": {},
     "execution_count": 57
    }
   ],
   "source": [
    "# the distribution of the car brands\n",
    "auto_valid['brand'].value_counts(normalize=True, dropna=False)"
   ]
  },
  {
   "cell_type": "code",
   "execution_count": 67,
   "metadata": {},
   "outputs": [
    {
     "output_type": "execute_result",
     "data": {
      "text/plain": [
       "{'daewoo': 1011.812865497076,\n",
       " 'rover': 1524.3952483801295,\n",
       " 'daihatsu': 1704.548717948718,\n",
       " 'renault': 2366.3506011315417,\n",
       " 'lada': 3030.3899082568805,\n",
       " 'peugeot': 3206.2663099596357,\n",
       " 'lancia': 3218.629067245119,\n",
       " 'opel': 3248.27832460733,\n",
       " 'mitsubishi': 3298.8646998982704,\n",
       " 'smart': 3586.280802861685,\n",
       " 'honda': 3863.605097894348,\n",
       " 'saab': 3879.23166023166,\n",
       " 'chrysler': 3925.278093883357,\n",
       " 'fiat': 4146.933841131665,\n",
       " 'subaru': 4247.2744063324535,\n",
       " 'suzuki': 4401.918811002662,\n",
       " 'seat': 4420.369038664059,\n",
       " 'nissan': 4585.39599256352,\n",
       " 'volvo': 5100.101627264354,\n",
       " 'toyota': 5263.365875109938,\n",
       " 'hyundai': 5487.679498146564,\n",
       " 'kia': 5719.187041564792,\n",
       " 'mazda': 5796.058619430241,\n",
       " 'dacia': 5861.871853546911,\n",
       " 'skoda': 6460.418046207022,\n",
       " 'chevrolet': 7485.864169927334,\n",
       " 'ford': 8702.476062530532,\n",
       " 'citroen': 9167.919797979797,\n",
       " 'mini': 9979.38496652465,\n",
       " 'jeep': 12207.964102564103,\n",
       " 'volkswagen': 13643.476727767,\n",
       " 'jaguar': 14232.819218241042,\n",
       " 'bmw': 14798.226103176023,\n",
       " 'audi': 16218.259230214248,\n",
       " 'land_rover': 16823.68372703412,\n",
       " 'mercedes_benz': 17614.74929166058,\n",
       " 'trabant': 20828.153979238756,\n",
       " 'alfa_romeo': 36896.85430463576,\n",
       " 'porsche': 51301.34594348222,\n",
       " 'sonstige_autos': 642492.4772308503}"
      ]
     },
     "metadata": {},
     "execution_count": 67
    }
   ],
   "source": [
    "# calculate the price of common brands\n",
    "common = list(auto_valid['brand'].value_counts().index)\n",
    "\n",
    "def mean_calc(brand_list, column):\n",
    "    brand_mean = {}\n",
    "    for car in brand_list:\n",
    "        brand_mean[car] = auto_valid.loc[auto_valid['brand'] == car, column].mean()\n",
    "    return brand_mean\n",
    "mean_price = mean_calc(common, 'price')\n",
    "# mean_price\n",
    "\n",
    "sorted_dict = {}\n",
    "sorted_keys = sorted(mean_price, key=mean_price.get) \n",
    "\n",
    "for w in sorted_keys:\n",
    "    sorted_dict[w] = mean_price[w]\n",
    "\n",
    "sorted_dict"
   ]
  },
  {
   "source": [
    "Sonstige Autos, Porsche, Alfa Romeo, Trabant, Mercedes Benze, Land Rover, Audi, BMW, Jaguar & Volkswagen have the most expesive cars. This suggests that e-commerce sales mirror real-life prestige enjoyed by those brands. However, in the top 10 most common brands there's a lost of variation in mean price. The mean price of an opel is over 99% lower than that of an Sonstige Autos, (most expensive). However, even compared to Rover which is the the 2nd least expensive common car, the price of an opel is 34% lower. In order to investigate the variance in price, the average mileage of each of these brands will be investigated in order to see if this is the main factor affecting the price variability."
   ],
   "cell_type": "markdown",
   "metadata": {}
  },
  {
   "source": [
    "Let's derive the average mileage for those cars and check if there's any visible link with mean price.\n"
   ],
   "cell_type": "markdown",
   "metadata": {}
  },
  {
   "cell_type": "code",
   "execution_count": 69,
   "metadata": {},
   "outputs": [],
   "source": [
    "# create a dataframe containing the average price and average mileage\n",
    "mean_mileage = mean_calc(common, 'kilometer')\n",
    "mean_price_series = pd.Series(mean_price)\n",
    "mean_price_df = pd.DataFrame(mean_price_series,columns=['mean_price'])\n",
    "mean_mileage_series = pd.Series(mean_mileage)\n",
    "mean_mileage_df = pd.DataFrame(mean_mileage_series, columns=['mean_mileage'])\n",
    "mean_price_df['mean_milage'] = mean_mileage_df['mean_mileage']"
   ]
  },
  {
   "cell_type": "code",
   "execution_count": 73,
   "metadata": {},
   "outputs": [
    {
     "output_type": "execute_result",
     "data": {
      "text/plain": [
       "                   mean_price    mean_milage\n",
       "sonstige_autos  642492.477231   86637.272967\n",
       "porsche          51301.345943   98318.140383\n",
       "alfa_romeo       36896.854305  128688.741722\n",
       "trabant          20828.153979   56046.712803\n",
       "mercedes_benz    17614.749292  130580.692274\n",
       "land_rover       16823.683727  119258.530184\n",
       "audi             16218.259230  129491.201104\n",
       "bmw              14798.226103  132657.076424\n",
       "jaguar           14232.819218  121872.964169\n",
       "volkswagen       13643.476728  128337.160352"
      ],
      "text/html": "<div>\n<style scoped>\n    .dataframe tbody tr th:only-of-type {\n        vertical-align: middle;\n    }\n\n    .dataframe tbody tr th {\n        vertical-align: top;\n    }\n\n    .dataframe thead th {\n        text-align: right;\n    }\n</style>\n<table border=\"1\" class=\"dataframe\">\n  <thead>\n    <tr style=\"text-align: right;\">\n      <th></th>\n      <th>mean_price</th>\n      <th>mean_milage</th>\n    </tr>\n  </thead>\n  <tbody>\n    <tr>\n      <th>sonstige_autos</th>\n      <td>642492.477231</td>\n      <td>86637.272967</td>\n    </tr>\n    <tr>\n      <th>porsche</th>\n      <td>51301.345943</td>\n      <td>98318.140383</td>\n    </tr>\n    <tr>\n      <th>alfa_romeo</th>\n      <td>36896.854305</td>\n      <td>128688.741722</td>\n    </tr>\n    <tr>\n      <th>trabant</th>\n      <td>20828.153979</td>\n      <td>56046.712803</td>\n    </tr>\n    <tr>\n      <th>mercedes_benz</th>\n      <td>17614.749292</td>\n      <td>130580.692274</td>\n    </tr>\n    <tr>\n      <th>land_rover</th>\n      <td>16823.683727</td>\n      <td>119258.530184</td>\n    </tr>\n    <tr>\n      <th>audi</th>\n      <td>16218.259230</td>\n      <td>129491.201104</td>\n    </tr>\n    <tr>\n      <th>bmw</th>\n      <td>14798.226103</td>\n      <td>132657.076424</td>\n    </tr>\n    <tr>\n      <th>jaguar</th>\n      <td>14232.819218</td>\n      <td>121872.964169</td>\n    </tr>\n    <tr>\n      <th>volkswagen</th>\n      <td>13643.476728</td>\n      <td>128337.160352</td>\n    </tr>\n  </tbody>\n</table>\n</div>"
     },
     "metadata": {},
     "execution_count": 73
    }
   ],
   "source": [
    "mean_price_df.sort_values('mean_price',ascending=False)[:10]"
   ]
  },
  {
   "cell_type": "code",
   "execution_count": null,
   "metadata": {},
   "outputs": [],
   "source": [
    "There seems to be no clear pattern between mean price and mean mileage this indicates that the most expensive cars sell for more money due to some other factors, such as perceived quality or durability."
   ]
  }
 ],
 "metadata": {
  "kernelspec": {
   "display_name": "Python 3",
   "language": "python",
   "name": "python3"
  },
  "language_info": {
   "codemirror_mode": {
    "name": "ipython",
    "version": 3
   },
   "file_extension": ".py",
   "mimetype": "text/x-python",
   "name": "python",
   "nbconvert_exporter": "python",
   "pygments_lexer": "ipython3",
   "version": "3.8.5-final"
  }
 },
 "nbformat": 4,
 "nbformat_minor": 2
}